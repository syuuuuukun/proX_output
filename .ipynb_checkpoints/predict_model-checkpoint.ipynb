{
 "cells": [
  {
   "cell_type": "code",
   "execution_count": 1,
   "metadata": {},
   "outputs": [],
   "source": [
    "import pandas as pd\n",
    "import numpy as np\n",
    "import cupy as cp\n",
    "import chainer\n",
    "from chainer.backends import cuda\n",
    "from chainer import Function, gradient_check, report, training, utils, Variable\n",
    "from chainer import datasets, iterators, optimizers, serializers\n",
    "from chainer import Link, Chain, ChainList\n",
    "import chainer.functions as F\n",
    "import chainer.links as L\n",
    "from chainer.training import extensions\n",
    "from chainer import initializers\n",
    "import codecs\n",
    "\n",
    "import MeCab\n",
    "from gensim.models import KeyedVectors\n",
    "from tqdm import tqdm\n",
    "import pickle\n",
    "from sklearn.model_selection import train_test_split\n",
    "import pandas as pd\n",
    "import re\n",
    "import sys\n",
    "from sklearn import metrics"
   ]
  },
  {
   "cell_type": "code",
   "execution_count": 72,
   "metadata": {},
   "outputs": [
    {
     "data": {
      "text/plain": [
       "'\\n'"
      ]
     },
     "execution_count": 72,
     "metadata": {},
     "output_type": "execute_result"
    }
   ],
   "source": [
    "text_label = pd.read_csv('./text_label_30k.csv')\n",
    "text_label.columns = [\"text\",\"label\"]\n",
    "tagger = MeCab.Tagger('-Owakati -d /home/machi52/.local/lib/mecab/dic/mecab-ipadic-neologd')\n",
    "tagger.parse(\"\")"
   ]
  },
  {
   "cell_type": "code",
   "execution_count": 44,
   "metadata": {},
   "outputs": [],
   "source": [
    "term_vec    = pickle.loads(open('../leam/paper_default/vectors/glove/glove_vectors.pkl', 'rb').read())"
   ]
  },
  {
   "cell_type": "code",
   "execution_count": 8,
   "metadata": {},
   "outputs": [],
   "source": [
    "text_label = pd.read_csv('./text_label_600k_nolabel.csv')\n",
    "text_label.columns = [\"text\",\"label\"]\n",
    "tagger = MeCab.Tagger('-Owakati -d /home/machi52/.local/lib/mecab/dic/mecab-ipadic-neologd')\n",
    "tagger.parse(\"\")\n",
    "text_label = text_label.drop(122986)\n",
    "text_label = text_label.drop(257158)\n",
    "text_label = text_label.drop(268543)\n",
    "text_label = text_label.drop(275125)\n",
    "text_label = text_label.drop(325942)\n",
    "text_label = text_label.drop(333330)\n",
    "text_label = text_label.drop(341130)\n",
    "text_label = text_label.drop(374990)\n",
    "text_label = text_label.drop(375870)\n",
    "text_label = text_label.drop(421640)\n",
    "text_label = text_label.drop(462511)\n",
    "text_label = text_label.drop(481845)\n",
    "text_label = text_label.drop(500022)\n",
    "text_label = text_label.drop(547719)\n",
    "text_label = text_label.drop(591953)\n",
    "\n",
    "##\n",
    "# term_vec    = pickle.loads(open('../all_pkl/term_vec_4500k.pkl', 'rb').read())\n",
    "term_vec    = pickle.loads(open('../leam/paper_default/vectors/glove/glove_vectors.pkl', 'rb').read())\n",
    "\n",
    "##char\n",
    "# term_vec    = pickle.loads(open('../all_pkl/char_vec_4500k.pkl', 'rb').read()) \n",
    "# term_vec = pickle.loads(open(\"../all_pkl/word_and_char_vec_4500k.pkl\",\"rb\").read())"
   ]
  },
  {
   "cell_type": "code",
   "execution_count": 73,
   "metadata": {},
   "outputs": [],
   "source": [
    "texts = text_label.text.apply(lambda x: tagger.parse(str(x)).split()).values\n",
    "word2id = {}\n",
    "for text in texts:\n",
    "    for word in text:\n",
    "        if word in word2id:\n",
    "            continue\n",
    "        word2id[word] = len(word2id)\n",
    "id2word = {}\n",
    "for key, value in word2id.items():\n",
    "    id2word[value] = key\n",
    "label2id = {}\n",
    "for i, label in enumerate(text_label.label.value_counts().keys()):\n",
    "    label2id[label] = i\n",
    "labels = text_label.label.apply(lambda x: x)    "
   ]
  },
  {
   "cell_type": "code",
   "execution_count": 74,
   "metadata": {},
   "outputs": [],
   "source": [
    "embedding_vectors = np.random.uniform(-0.01, 0.01, (len(word2id), 300))\n",
    "embedding_vectors = np.load(\"./paper_default/data/text_emb_30k.npz\")[\"arr_0\"]"
   ]
  },
  {
   "cell_type": "code",
   "execution_count": 75,
   "metadata": {},
   "outputs": [],
   "source": [
    "class_name = [\"😊\",\"😵\",\"😡\",\"😭\",\"😱\",\"😩\"]\n",
    "# [\"😵\",\"😊\",\"\"😭\",\"😱\",\"😩\",\"😡\"]\n",
    "symbol_list = ['（','）','、']\n",
    "for label_words in class_name:\n",
    "    for symbol in symbol_list:\n",
    "        if symbol in label_words:\n",
    "            label_words.remove(symbol)\n",
    "    \n",
    "value_list = [ [ term_vec[i] for i in l] for l in class_name]\n",
    "value_mean_emo = np.array([ np.mean(l, axis=0)  for l in value_list])"
   ]
  },
  {
   "cell_type": "code",
   "execution_count": 76,
   "metadata": {},
   "outputs": [],
   "source": [
    "id_texts = [[word2id[word] for word in text]for text in texts]\n",
    "f = lambda x: np.pad(x, pad_width=(0, 305-len(x)), mode='constant', constant_values=-1)\n",
    "id_texts = np.array(list(map(f, id_texts)), np.int32)"
   ]
  },
  {
   "cell_type": "code",
   "execution_count": 77,
   "metadata": {},
   "outputs": [],
   "source": [
    "labels_multi = [np.array(re.sub(\"\\[|\\]\",\"\",label).split(\",\"),dtype=\"float64\") for label in labels]\n",
    "labels_multi = np.array(labels_multi,dtype='int32')\n",
    "train_x, test_x, train_y, test_y = train_test_split(id_texts, labels_multi, random_state=0)"
   ]
  },
  {
   "cell_type": "code",
   "execution_count": 90,
   "metadata": {},
   "outputs": [],
   "source": [
    "##default\n",
    "class LEAM(chainer.Chain):\n",
    "    \n",
    "    def __init__(self, vocab_size, n_class=6,filter_size=55):\n",
    "        super(LEAM, self).__init__()\n",
    "        self.n_class = n_class\n",
    "        with self.init_scope():\n",
    "            self.embed = L.EmbedID(\n",
    "                vocab_size, 300, ignore_label=-1) # f_0\n",
    "            self.embed_class = L.EmbedID(\n",
    "                n_class, 300, ignore_label=-1)\n",
    "            self.conv1 = L.ConvolutionND(1, None, n_class, filter_size, 1, filter_size//2) # f_1\n",
    "            self.fc2 = L.Linear(300, n_class) # f_2\n",
    "\n",
    "    def __call__(self, x):\n",
    "        V = self.embed(x)\n",
    "        V_norm = F.normalize(V.transpose(0, 2, 1), axis=1)\n",
    "        C = self.embed_class.W\n",
    "        C_norm = F.normalize(C, axis=1)\n",
    "        G = F.matmul(F.broadcast_to(C_norm, (V_norm.shape[0], C_norm.shape[0], C_norm.shape[1])), V_norm)\n",
    "        u = F.relu(self.conv1(G))\n",
    "        m = F.maxout(u, pool_size=self.n_class, axis=1)\n",
    "        beta = F.softmax(m, axis=2)\n",
    "        z = F.sum((V * F.broadcast_to(beta.transpose(0,2,1), V.shape)), axis=1)\n",
    "        z = self.fc2(F.dropout(z))\n",
    "        z = F.sigmoid(z)\n",
    "        z_class = self.fc2(F.dropout(C))\n",
    "        out = F.concat([z, z_class], axis=0)\n",
    "        return out    "
   ]
  },
  {
   "cell_type": "code",
   "execution_count": 18,
   "metadata": {},
   "outputs": [],
   "source": [
    "##F2の処理で全結合の前にカーネルサイズの違う５つの畳み込み層を用いる\n",
    "##concatした複数のzをmaxoutして全結合処理\n",
    "class LEAM(chainer.Chain):\n",
    "    \n",
    "    def __init__(self, vocab_size, n_class=6,filter_size=[1,3,5,7,9]):\n",
    "        super(LEAM, self).__init__()\n",
    "        self.n_class = n_class\n",
    "        with self.init_scope():\n",
    "            self.embed = L.EmbedID(vocab_size, 300, ignore_label=-1) # f_0\n",
    "            self.embed_class = L.EmbedID(n_class, 300, ignore_label=-1)\n",
    "            self.conv = L.ConvolutionND(1, None, n_class, filter_size[0], 1, filter_size[0]//2)\n",
    "            self.conv1 = L.ConvolutionND(1, None, 1, filter_size[0], 1, filter_size[0]//2) # f_1\n",
    "            self.conv2 = L.ConvolutionND(1, None, 1, filter_size[1], 1, filter_size[1]//2)\n",
    "            self.conv3 = L.ConvolutionND(1, None, 1, filter_size[2], 1, filter_size[2]//2)\n",
    "            self.conv4 = L.ConvolutionND(1, None, 1, filter_size[3], 1, filter_size[3]//2)\n",
    "            self.conv5 = L.ConvolutionND(1, None, 1, filter_size[4], 1, filter_size[4]//2)\n",
    "            self.fc2 = L.Linear(300, n_class) # f_2\n",
    "\n",
    "    def __call__(self, x):\n",
    "        V = self.embed(x)\n",
    "        V_norm = F.normalize(V.transpose(0, 2, 1), axis=1)\n",
    "        C = self.embed_class.W\n",
    "        C_norm = F.normalize(C, axis=1)\n",
    "        G = F.matmul(F.broadcast_to(C_norm, (V_norm.shape[0], C_norm.shape[0], C_norm.shape[1])), V_norm)\n",
    "        u = F.relu(self.conv(G))\n",
    "        u = F.reshape(u,(V.shape[0],u.shape[1],u.shape[2]))\n",
    "        m = F.maxout(u, pool_size=self.n_class, axis=1)\n",
    "        beta = F.softmax(m, axis=2)\n",
    "                           \n",
    "        z = F.sum((V * F.broadcast_to(beta.transpose(0,2,1), V.shape)), axis=1)\n",
    "        \n",
    "        z = F.reshape(z,(z.shape[0],1,z.shape[1]))\n",
    "        z1 = F.relu(self.conv1(z))\n",
    "        z2 = F.relu(self.conv2(z))\n",
    "        z3 = F.relu(self.conv3(z))\n",
    "        z4 = F.relu(self.conv4(z))\n",
    "        z5 = F.relu(self.conv5(z))\n",
    "        z  = F.maxout(F.concat([z1,z2,z3,z4,z5],axis=1),pool_size=5,axis=1)\n",
    "        \n",
    "        z = F.reshape(z,(z.shape[0],z.shape[2]))\n",
    "        z = self.fc2(F.dropout(z))\n",
    "        z = F.sigmoid(z)\n",
    "        z_class = self.fc2(F.dropout(C))\n",
    "        out = F.concat([z, z_class], axis=0)\n",
    "        return out"
   ]
  },
  {
   "cell_type": "code",
   "execution_count": 11,
   "metadata": {},
   "outputs": [],
   "source": [
    "##絵文字の意味も計算して２つのbetaから学習を行った\n",
    "class LEAM(chainer.Chain):    \n",
    "    def __init__(self, vocab_size, n_class=6,filter_size=7):\n",
    "        super(LEAM, self).__init__()\n",
    "        self.n_class = n_class\n",
    "        with self.init_scope():\n",
    "            self.embed = L.EmbedID(vocab_size, 300, ignore_label=-1) # f_0\n",
    "            self.embed_class1 = L.EmbedID(n_class, 300, ignore_label=-1)\n",
    "            self.embed_class2 = L.EmbedID(n_class, 300, ignore_label=-1)\n",
    "            self.conv1 = L.ConvolutionND(1, None, n_class, filter_size, 1, filter_size//2) # f_1\n",
    "            self.fc1 = L.Linear(None,305)\n",
    "            self.fc2 = L.Linear(300, n_class) # f_2\n",
    "\n",
    "    def __call__(self, x):\n",
    "        V = self.embed(x)\n",
    "        V_norm = F.normalize(V.transpose(0, 2, 1), axis=1)\n",
    "        \n",
    "        C1 = self.embed_class1.W\n",
    "        C_norm = F.normalize(C1, axis=1)\n",
    "        G = F.matmul(F.broadcast_to(C_norm, (V_norm.shape[0], C_norm.shape[0], C_norm.shape[1])), V_norm)\n",
    "        u = F.relu(self.conv1(G))\n",
    "        m = F.maxout(u, pool_size=self.n_class, axis=1)\n",
    "        beta1 = F.softmax(m, axis=2)\n",
    "        \n",
    "        C = self.embed_class2.W\n",
    "        C_norm = F.normalize(C, axis=1)\n",
    "        G = F.matmul(F.broadcast_to(C_norm, (V_norm.shape[0], C_norm.shape[0], C_norm.shape[1])), V_norm)\n",
    "        u = F.relu(self.conv1(G))\n",
    "        m = F.maxout(u, pool_size=self.n_class, axis=1)\n",
    "        beta2 = F.softmax(m, axis=2)\n",
    "        \n",
    "        beta = F.maxout(F.concat([beta1,beta2]),pool_size=2,axis=1)\n",
    "        z = F.sum((V * F.broadcast_to(beta.transpose(0,2,1), V.shape)), axis=1)\n",
    "        z = self.fc2(F.dropout(z))\n",
    "        z = F.sigmoid(z)\n",
    "        z_class = self.fc2(F.dropout(C1))\n",
    "        out = F.concat([z, z_class], axis=0)\n",
    "        return out "
   ]
  },
  {
   "cell_type": "code",
   "execution_count": 3,
   "metadata": {},
   "outputs": [],
   "source": [
    "class cnn(chainer.Chain):\n",
    "    \n",
    "    def __init__(self, vocab_size, n_class=6,filter_size=[1,3,5,7,9]):\n",
    "        super(cnn, self).__init__()\n",
    "        self.n_class = n_class\n",
    "        self.filter_size = filter_size\n",
    "        with self.init_scope():\n",
    "            self.embed = L.EmbedID(\n",
    "                vocab_size, 300, ignore_label=-1) # f_0\n",
    "            self.conv1 = L.ConvolutionND(1, None, n_class, filter_size[0], 1, filter_size[0]//2) # f_1\n",
    "            self.conv2 = L.ConvolutionND(1, None, n_class, filter_size[1], 1, filter_size[1]//2)\n",
    "            self.conv3 = L.ConvolutionND(1, None, n_class, filter_size[2], 1, filter_size[2]//2)\n",
    "            self.conv4 = L.ConvolutionND(1, None, n_class, filter_size[3], 1, filter_size[3]//2)\n",
    "            self.conv5 = L.ConvolutionND(1, None, n_class, filter_size[4], 1, filter_size[4]//2)\n",
    "#             self.fc1 = L.Linear(None, 300)\n",
    "            self.fc2 = L.Linear(None, n_class) # f_2\n",
    "#             self.bnorm1=L.BatchNormalization(6)\n",
    "\n",
    "    def __call__(self, x):\n",
    "        V = self.embed(x)\n",
    "        \n",
    "#         u1 = self.bnorm1(F.relu(self.conv1(V)))       \n",
    "#         u2 = self.bnorm1(F.relu(self.conv2(V)))\n",
    "#         u3 = self.bnorm1(F.relu(self.conv3(V)))\n",
    "#         u4 = self.bnorm1(F.relu(self.conv4(V)))\n",
    "#         u5 = self.bnorm1(F.relu(self.conv5(V)))\n",
    "        \n",
    "        u1 = F.relu(self.conv1(V))       \n",
    "        u2 = F.relu(self.conv2(V))\n",
    "        u3 = F.relu(self.conv3(V))\n",
    "        u4 = F.relu(self.conv4(V))\n",
    "        u5 = F.relu(self.conv5(V))\n",
    "        \n",
    "        m1 = F.max_pooling_1d(u1,self.filter_size[0],1,pad=self.filter_size[0]//2)\n",
    "        m2 = F.max_pooling_1d(u2,self.filter_size[1],1,pad=self.filter_size[1]//2)\n",
    "        m3 = F.max_pooling_1d(u3,self.filter_size[2],1,pad=self.filter_size[2]//2)\n",
    "        m4 = F.max_pooling_1d(u4,self.filter_size[3],1,pad=self.filter_size[3]//2)\n",
    "        m5 = F.max_pooling_1d(u5,self.filter_size[4],1,pad=self.filter_size[4]//2)\n",
    "        \n",
    "        z = F.concat([m1,m2,m3,m4,m5],axis=1)\n",
    "        \n",
    "        m = F.reshape(z,(z.shape[0],300*z.shape[1]))\n",
    "        m = F.normalize(m, axis=1)\n",
    "        m = self.fc2(F.dropout(m))\n",
    "        out = F.sigmoid(m)\n",
    "        return out"
   ]
  },
  {
   "cell_type": "code",
   "execution_count": 91,
   "metadata": {},
   "outputs": [],
   "source": [
    "def lossfun_multi(z, t):\n",
    "    with cuda.get_device(z):\n",
    "            z_class = z[-n_class:]\n",
    "            z = z[:-n_class]\n",
    "    t_class = Variable(cp.array(range(n_class)))\n",
    "    loss = - (F.mean(t * F.log(z) + (1-t)*F.log1p(-z))) / z.shape[0] + F.softmax_cross_entropy(z_class, t_class)\n",
    "    return loss"
   ]
  },
  {
   "cell_type": "code",
   "execution_count": 92,
   "metadata": {},
   "outputs": [],
   "source": [
    "def auc_fun(z, t):\n",
    "    aucs = []\n",
    "    with cuda.get_device(z):\n",
    "        z = z[:-n_class]\n",
    "    t = chainer.cuda.to_cpu(t)\n",
    "    z = chainer.cuda.to_cpu(z.data)\n",
    "    for i in range(6):\n",
    "        fpr, tpr, thresholds = metrics.roc_curve(t[::,i], z[::,i]) \n",
    "        aucs.append(metrics.auc(fpr, tpr))\n",
    "#     print(aucs)\n",
    "    return Variable(np.array(sum(aucs)/len(aucs)))"
   ]
  },
  {
   "cell_type": "code",
   "execution_count": 82,
   "metadata": {},
   "outputs": [
    {
     "data": {
      "text/plain": [
       "40615"
      ]
     },
     "execution_count": 82,
     "metadata": {},
     "output_type": "execute_result"
    }
   ],
   "source": [
    "len(word2id)"
   ]
  },
  {
   "cell_type": "code",
   "execution_count": 93,
   "metadata": {},
   "outputs": [
    {
     "data": {
      "text/plain": [
       "<chainer.links.model.classifier.Classifier at 0x7fdbb50dd390>"
      ]
     },
     "execution_count": 93,
     "metadata": {},
     "output_type": "execute_result"
    }
   ],
   "source": [
    "model = LEAM(len(word2id), 6)\n",
    "serializers.load_npz('./paper_default/predict/leam_30kdata', model)\n",
    "\n",
    "gpu_id = 0\n",
    "if gpu_id >= 0:\n",
    "    model.to_gpu(gpu_id)\n",
    "model = L.Classifier(model, lossfun=lossfun_multi, accfun=auc_fun)    \n",
    "model.to_cpu()"
   ]
  },
  {
   "cell_type": "code",
   "execution_count": 94,
   "metadata": {},
   "outputs": [],
   "source": [
    "def Bscore(true_y,pred_y):\n",
    "    lists = []\n",
    "    for i in range(6):\n",
    "#         lists.append(sum(sum((true_y - pred_y)**2)/(6*pred_y.shape[0])))\n",
    "        lists.append(sum((true_y[:,i]-pred_y[:,i].data)**2)/pred_y.shape[0])\n",
    "    print(lists)    \n",
    "    return lists  \n",
    "\n",
    "def aucScore(true_y,pred_y):\n",
    "    return plot_graph(true_y,pred_y)\n",
    "\n",
    "def plot_graph(y_true,y_pred):\n",
    "    from sklearn import metrics\n",
    "    import matplotlib.pyplot as plt\n",
    "    import numpy as np\n",
    "    # FPR, TPR(, しきい値) を算出\n",
    "#     plt.plot()\n",
    "    lists = []\n",
    "    for i in range(6):\n",
    "        fpr, tpr, thresholds = metrics.roc_curve(y_true[:,i], y_pred[:,i].data)\n",
    "        # ついでにAUCも\n",
    "        auc = metrics.auc(fpr, tpr)\n",
    "        lists.append(auc)\n",
    "    print(lists)    \n",
    "    return lists\n",
    "def precision_recall_F(true_y,pred_y):\n",
    "    from sklearn.metrics import f1_score\n",
    "    lists = []\n",
    "    pred_y = (pred_y.data >= 0.3).astype(np.int32)\n",
    "    for i in range(6):\n",
    "        lists.append(f1_score(true_y[:,i], pred_y[:,i]))\n",
    "    print(lists)    \n",
    "    return lists    "
   ]
  },
  {
   "cell_type": "code",
   "execution_count": 172,
   "metadata": {},
   "outputs": [
    {
     "name": "stdout",
     "output_type": "stream",
     "text": [
      "[0.06474565679124006, 0.06989401736404631, 0.0748214104641706, 0.07289330266474321, 0.08242542821848374, 0.06500949355470062]\n",
      "[0.8410300201960735, 0.75333279491309, 0.741512436593273, 0.7496355266797504, 0.7629146917354386, 0.8230344511729683]\n",
      "[0.4159613059250303, 0.2752043596730245, 0.16993464052287582, 0.2869198312236287, 0.282147315855181, 0.4047337278106509]\n",
      "[0.0629672521726786, 0.07077704992681766, 0.07472265173016271, 0.07279143217641658, 0.07722564998554764, 0.05937533269720517]\n",
      "[0.8611653641866662, 0.7519015957944762, 0.7304663131628196, 0.7759069840708439, 0.7582040249866308, 0.8387461344863331]\n",
      "[0.4709976798143852, 0.22865412445730826, 0.15257048092868988, 0.2662889518413598, 0.27456258411843876, 0.4332493702770781]\n",
      "[0.06706490411363084, 0.06713661611882756, 0.06848188212257161, 0.07261506635626025, 0.08241515960360749, 0.06330339783445495]\n",
      "[0.8330266005738808, 0.7582940942014046, 0.7421179668065365, 0.7740642605254436, 0.7707692816000176, 0.8146005872018125]\n",
      "[0.40920096852300236, 0.25663716814159293, 0.1493624772313297, 0.2662807525325615, 0.2818955042527339, 0.40194884287454324]\n",
      "[0.06246872469134995, 0.07021053903059982, 0.07730921265893624, 0.06996680061169978, 0.09221336536779515, 0.05840844597823604]\n",
      "[0.8428779020115358, 0.7549018676320224, 0.7327876938914475, 0.7796756972390817, 0.7428587480933552, 0.8432248985342399]\n",
      "[0.4275, 0.2731034482758621, 0.16801292407108237, 0.2789317507418398, 0.2694541231126597, 0.4328899637243047]\n",
      "[0.0665043188095819, 0.07768670305070899, 0.07817456966899637, 0.0707151711239429, 0.08951520120529706, 0.060358939613195446]\n",
      "[0.8377028150891287, 0.758353861660479, 0.7155621169677153, 0.7721528817911989, 0.7548534166364544, 0.8422554117005392]\n",
      "[0.42906574394463665, 0.22611036339165547, 0.11940298507462688, 0.31098430813124106, 0.2523584905660377, 0.39230769230769236]\n",
      "[0.06676395703833858, 0.07123237444692616, 0.07202601761170248, 0.06505591047988558, 0.0864413836881441, 0.062125473567817655]\n",
      "[0.8440173905344839, 0.7567304821877643, 0.7212151927616741, 0.7816032868470267, 0.7483879755254057, 0.8382896253869673]\n",
      "[0.4033018867924528, 0.2408660351826793, 0.12110726643598618, 0.31124807395993837, 0.28708133971291866, 0.44470046082949316]\n",
      "[0.06715293450678843, 0.07234196914116478, 0.07453176161463292, 0.06621669471668996, 0.08669453714698548, 0.06332416243560542]\n",
      "[0.8424272622997324, 0.7732596603312819, 0.7235901434809732, 0.7669759783210052, 0.7405159684065934, 0.8265414986831826]\n",
      "[0.41224970553592466, 0.2985074626865672, 0.13907284768211922, 0.27230046948356806, 0.24330900243309003, 0.393483709273183]\n",
      "[0.0695289593488254, 0.07398101312737497, 0.07625012981941269, 0.0662374413674505, 0.08723549632192264, 0.05910038892311249]\n",
      "[0.8449091972514478, 0.7641714915090683, 0.7095194223706912, 0.7770773500025349, 0.7349939903846154, 0.8484528902706915]\n",
      "[0.46420824295010843, 0.2622516556291391, 0.1440536013400335, 0.299236641221374, 0.2532544378698225, 0.4184308841843088]\n",
      "[0.06554553265883802, 0.06994733237374011, 0.07268268347955426, 0.0644245103290048, 0.08717191246276604, 0.060484423413059867]\n",
      "[0.8424737484737486, 0.7772515185609864, 0.7358385360109793, 0.7898272378674803, 0.7482338919925512, 0.8461036425037436]\n",
      "[0.4513172966781215, 0.2689075630252101, 0.16095890410958902, 0.2755267423014587, 0.26890756302521013, 0.4238875878220141]\n",
      "[0.06552782455567324, 0.07659408692371483, 0.07959268250455802, 0.06833709512692493, 0.08290582388342087, 0.06743961882646948]\n",
      "[0.8590004696977767, 0.7569107764332683, 0.7227952244116037, 0.7756410836765245, 0.7544951773710671, 0.8247576236542392]\n",
      "[0.45610034207525657, 0.23401360544217686, 0.17432646592709983, 0.286144578313253, 0.27923627684964203, 0.4053751399776036]\n",
      "[0.06158536148683489, 0.0730182415731726, 0.07565752383866424, 0.0669513234383436, 0.08143198150192209, 0.06201488742480509]\n",
      "[0.849590630790153, 0.7562160509153006, 0.7389085101592839, 0.8019261821371855, 0.769883245718275, 0.8262826219038333]\n",
      "[0.4207920792079208, 0.25133689839572193, 0.17806041335453102, 0.340974212034384, 0.2807017543859649, 0.42105263157894735]\n",
      "[0.06577059781729222, 0.07468739133221741, 0.0796007791183014, 0.07091210929894821, 0.08037844402710972, 0.06552356779539169]\n",
      "[0.8515915327796517, 0.7358350159992689, 0.7349489512082694, 0.7571901292992138, 0.7439439199661828, 0.8197788619867661]\n",
      "[0.44673539518900346, 0.23789764868603042, 0.1365079365079365, 0.32303370786516855, 0.26530612244897955, 0.4096109839816934]\n",
      "[0.06427260080719759, 0.07137596434956406, 0.07144630595031908, 0.0694215623669203, 0.08521421205871808, 0.06635213232236505]\n",
      "[0.8571963069608335, 0.7775708660301146, 0.7167720831787133, 0.7595475412460945, 0.7539101133241759, 0.808076654704944]\n",
      "[0.4581395348837209, 0.2664796633941094, 0.13937282229965156, 0.2892307692307693, 0.2636033857315599, 0.3938679245283019]\n",
      "[0.06260395138403885, 0.07439197196652654, 0.07116832348671835, 0.06961987171908769, 0.08268812668217843, 0.0621978214910171]\n",
      "[0.8482081768445283, 0.7626628645480654, 0.727971090423031, 0.777321424191135, 0.7468819069367416, 0.818038411380151]\n",
      "[0.42666666666666664, 0.2562674094707521, 0.17301038062283736, 0.29829545454545453, 0.2748466257668712, 0.41254523522316044]\n",
      "[0.059488103541376236, 0.07529287012369681, 0.0731921466043607, 0.06817112177076116, 0.08859709124014013, 0.06260945125520073]\n",
      "[0.8497996771614922, 0.7698205920030695, 0.7257466753869631, 0.7730149758064014, 0.7555416328550553, 0.8214777618364418]\n",
      "[0.45949214026602175, 0.2886866059817945, 0.14802065404475045, 0.3162518301610542, 0.25814234016887816, 0.39900249376558605]\n",
      "[0.0619755237053269, 0.0762086275723645, 0.0724251403317107, 0.07484177085291258, 0.0823979557526236, 0.05864233054674177]\n",
      "[0.8521392375313366, 0.7788538528642047, 0.7138753238032572, 0.770432326826005, 0.7721737933709296, 0.8426309782608696]\n",
      "[0.4650059311981021, 0.29705505761843787, 0.1292517006802721, 0.3041722745625841, 0.22797927461139897, 0.42821158690176325]\n",
      "[0.06541287321307782, 0.07521777075425184, 0.07469884567922914, 0.06770585916122152, 0.08060950385581295, 0.06667265018558653]\n",
      "[0.842621755354018, 0.7455547547673013, 0.7516243318267573, 0.7586782792530671, 0.7485016136468419, 0.8340525810628359]\n",
      "[0.46260069044879176, 0.24417009602194786, 0.20578778135048234, 0.2923976608187135, 0.2694300518134715, 0.39859320046893315]\n",
      "[0.06686085337070047, 0.07469394514677313, 0.07147012086277535, 0.06871631629621007, 0.0848045511388229, 0.06501345305644644]\n",
      "[0.8492286801374445, 0.7588577383353502, 0.7329920981654301, 0.7793293454776355, 0.7434286569741534, 0.8172674385328003]\n",
      "[0.4520547945205479, 0.24266666666666667, 0.1514629948364888, 0.3236151603498542, 0.2694684796044499, 0.3905882352941177]\n",
      "[0.06250232121890148, 0.0725016044410401, 0.07240693765639425, 0.0668790998380283, 0.08088977684821953, 0.06695415562856395]\n",
      "[0.8484164826897223, 0.7700081421762242, 0.7352654898019808, 0.7740114089737955, 0.7515670040624078, 0.8291594876456235]\n",
      "[0.4659498207885305, 0.26373626373626374, 0.16891891891891894, 0.2791411042944785, 0.2578947368421053, 0.4108352144469526]\n",
      "[0.06881169584330003, 0.07259301460437342, 0.07196511733534357, 0.07365690490411568, 0.0841074418134047, 0.06329781889098283]\n",
      "[0.8462051634130859, 0.7817939619232467, 0.7169561441246339, 0.7663363836431357, 0.7524633490097162, 0.8358691191096675]\n",
      "[0.4423963133640553, 0.2950391644908617, 0.15221238938053097, 0.2914862914862915, 0.27586206896551724, 0.42691415313225056]\n",
      "[0.06866088049590882, 0.07122930506120909, 0.07588641938312439, 0.06618834540123845, 0.08142634678423286, 0.06262059783900166]\n",
      "[0.8398963696564579, 0.7607379840229102, 0.7426173979071258, 0.7693493072911052, 0.7572273231762687, 0.8360004279097866]\n",
      "[0.4295612009237876, 0.2507204610951009, 0.19999999999999998, 0.27760252365930604, 0.25396825396825395, 0.3995299647473561]\n",
      "[0.06854852764812379, 0.07608602734539656, 0.07464786894302826, 0.06878833980628385, 0.08165821638001533, 0.06232827106153731]\n",
      "[0.832679540165472, 0.7614229097170744, 0.7205324598116495, 0.7585885906156158, 0.7433947933485054, 0.8551935766351335]\n",
      "[0.4248587570621469, 0.2610966057441253, 0.15660685154975532, 0.2912332838038633, 0.23865110246433202, 0.4387990762124711]\n",
      "[0.0642864509809631, 0.07102173251349243, 0.07118049297666003, 0.07063614485876937, 0.08064489763627312, 0.06285609791129405]\n",
      "[0.8373817255302587, 0.7644184382834148, 0.7325068505545071, 0.7606701618952767, 0.7575955949435488, 0.8293189852360159]\n",
      "[0.43529411764705883, 0.24697986577181208, 0.18055555555555555, 0.3053221288515406, 0.2457516339869281, 0.4066587395957194]\n",
      "[0.06862026381254853, 0.06861532771843236, 0.07488612844424562, 0.0668180174527859, 0.08162166854274601, 0.06372470645000579]\n",
      "[0.8301183144614557, 0.7639199607364421, 0.7195603807322388, 0.7829564655561485, 0.7626320292391686, 0.8294596075875438]\n",
      "[0.4094674556213018, 0.23897581792318634, 0.1423841059602649, 0.3181148748159057, 0.24774193548387094, 0.3925925925925926]\n",
      "[0.06587807752812543, 0.07443891767693564, 0.07576410022039624, 0.06760003490558222, 0.08015872436874703, 0.06594960857760736]\n",
      "[0.8540088734148139, 0.7680255434214563, 0.7327587465850864, 0.7849559854067618, 0.7638944846498917, 0.8146842954657773]\n",
      "[0.430379746835443, 0.2807486631016043, 0.16883116883116883, 0.3163841807909605, 0.2525252525252525, 0.43428571428571433]\n",
      "[0.06730463594073854, 0.07411983247048669, 0.07361348340864914, 0.06861378041325802, 0.08015986484401763, 0.05885127428740933]\n",
      "[0.8514716350965835, 0.7612845137144624, 0.7361707404750432, 0.792202723996427, 0.7638151047558713, 0.8340238597652023]\n",
      "[0.48008611410118407, 0.24033149171270718, 0.1554054054054054, 0.31149927219796214, 0.26957637997432604, 0.4143033292231813]\n",
      "[0.0664928788128881, 0.07199631538564345, 0.07297495493508427, 0.07073231395345228, 0.08327253479171633, 0.05991354676703893]\n",
      "[0.848664034579349, 0.7679784338212958, 0.7251012561261544, 0.7820291825609648, 0.7556420021349505, 0.8384651550180261]\n",
      "[0.4575892857142857, 0.296875, 0.1374570446735395, 0.2931034482758621, 0.25249999999999995, 0.4137931034482759]\n",
      "[0.05941456291318809, 0.06952918354065837, 0.07238950847845577, 0.07084950250526377, 0.08151064834556483, 0.06319646681246643]\n",
      "[0.8644532055722506, 0.7802965387116485, 0.7202876048048669, 0.7756349037741805, 0.7433756324512941, 0.8180619441409704]\n",
      "[0.48622754491017967, 0.29261744966442954, 0.11449016100178892, 0.3081312410841655, 0.23834196891191706, 0.4154228855721393]\n",
      "[0.05589578712343267, 0.07576745644097874, 0.0744952612137138, 0.06682130581622941, 0.08462155424834557, 0.06236018608114215]\n",
      "[0.8836639356775737, 0.737121111513992, 0.7260122147219543, 0.7511672879827211, 0.750074759318969, 0.8385931829146471]\n",
      "[0.5095693779904306, 0.23751686909581646, 0.17597292724196276, 0.29467084639498436, 0.24969400244798043, 0.4331797235023041]\n",
      "[0.06505376121072955, 0.07669471338332902, 0.07303771450571747, 0.07241150163317149, 0.07809191764022803, 0.060039244194688354]\n",
      "[0.8635874353572112, 0.7512395584376234, 0.744282075275525, 0.7767101980291238, 0.7985778687261318, 0.8224604516279773]\n",
      "[0.45464982778415614, 0.2549800796812749, 0.16039279869067102, 0.3061516452074392, 0.2682291666666667, 0.4005037783375315]\n",
      "--------------------------------------------------\n",
      "[0.0649236591180546, 0.0729760638301488, 0.07405000583491965, 0.06918628837818676, 0.08328431387949364, 0.06266826484743832]\n",
      "[0.8483184494496057, 0.7619575658388769, 0.7290098490510063, 0.7731537696994295, 0.7550250665113736, 0.8304967388773244]\n",
      "[0.8483184494496057, 0.7619575658388769, 0.7290098490510063, 0.7731537696994295, 0.7550250665113736, 0.8304967388773244]\n"
     ]
    }
   ],
   "source": [
    "div = 5000\n",
    "count = test_x.shape[0]//div\n",
    "Bscore_list = []\n",
    "auc_list = []\n",
    "fscore_list = []\n",
    "for i in range(count):\n",
    "    pred_y = model.predictor(np.array(test_x[i*div:(i+1)*div]))\n",
    "    true_y = test_y[i*div:(i+1)*div]\n",
    "    Bscore_list.append(Bscore(true_y,pred_y[:-6]))\n",
    "    auc_list.append(aucScore(true_y,pred_y[:-6]))\n",
    "    fscore_list.append(precision_recall_F(true_y,pred_y[:-6]))    \n",
    "    pred_y_ = 0\n",
    "    true_y = 0\n",
    "\n",
    "Bscore_list = np.array(Bscore_list)\n",
    "auc_list = np.array(auc_list)\n",
    "fscore_list = np.array(fscore_list)\n",
    "B_ave = []\n",
    "auc_ave = []\n",
    "f_ave = []\n",
    "for i in range(6):\n",
    "    B_ave.append(sum(Bscore_list[:,i])/count)\n",
    "    auc_ave.append(sum(auc_list[:,i])/count)\n",
    "    f_ave.append(sum(auc_list[:,i])/count)\n",
    "\n",
    "print(\"-\"*50)\n",
    "print(B_ave)\n",
    "print(auc_ave)\n",
    "print(f_ave)"
   ]
  },
  {
   "cell_type": "code",
   "execution_count": 2,
   "metadata": {},
   "outputs": [],
   "source": [
    "class cnn(chainer.Chain):\n",
    "    \n",
    "    def __init__(self, vocab_size, n_class=6,filter_size=[1,3,5,7,9]):\n",
    "        super(cnn, self).__init__()\n",
    "        self.n_class = n_class\n",
    "        self.filter_size = filter_size\n",
    "        with self.init_scope():\n",
    "            self.embed = L.EmbedID(\n",
    "                vocab_size, 300, ignore_label=-1) # f_0\n",
    "            self.conv1 = L.ConvolutionND(1, None, 305, filter_size[0], 1, filter_size[0]//2) # f_1\n",
    "            self.conv2 = L.ConvolutionND(1, None, 305, filter_size[1], 1, filter_size[1]//2)\n",
    "            self.conv3 = L.ConvolutionND(1, None, 305, filter_size[2], 1, filter_size[2]//2)\n",
    "            self.conv4 = L.ConvolutionND(1, None, 305, filter_size[3], 1, filter_size[3]//2)\n",
    "            self.conv5 = L.ConvolutionND(1, None, 305, filter_size[4], 1, filter_size[4]//2)\n",
    "#             self.fc1 = L.Linear(None, 300)\n",
    "            self.fc2 = L.Linear(None, n_class) # f_2\n",
    "#             self.bnorm1=L.BatchNormalization(6)\n",
    "\n",
    "    def __call__(self, x):\n",
    "        V = self.embed(x)\n",
    "        \n",
    "#         u1 = self.bnorm1(F.relu(self.conv1(V)))       \n",
    "#         u2 = self.bnorm1(F.relu(self.conv2(V)))\n",
    "#         u3 = self.bnorm1(F.relu(self.conv3(V)))\n",
    "#         u4 = self.bnorm1(F.relu(self.conv4(V)))\n",
    "#         u5 = self.bnorm1(F.relu(self.conv5(V)))\n",
    "        \n",
    "        u1 = F.relu(self.conv1(V))       \n",
    "        u2 = F.relu(self.conv2(V))\n",
    "        u3 = F.relu(self.conv3(V))\n",
    "        u4 = F.relu(self.conv4(V))\n",
    "        u5 = F.relu(self.conv5(V))\n",
    "        \n",
    "        m1 = F.max_pooling_1d(u1,self.filter_size[0],1,pad=self.filter_size[0]//2)\n",
    "        m2 = F.max_pooling_1d(u2,self.filter_size[1],1,pad=self.filter_size[1]//2)\n",
    "        m3 = F.max_pooling_1d(u3,self.filter_size[2],1,pad=self.filter_size[2]//2)\n",
    "        m4 = F.max_pooling_1d(u4,self.filter_size[3],1,pad=self.filter_size[3]//2)\n",
    "        m5 = F.max_pooling_1d(u5,self.filter_size[4],1,pad=self.filter_size[4]//2)\n",
    "        \n",
    "        z = F.concat([m1,m2,m3,m4,m5],axis=1)\n",
    "        \n",
    "        m = F.reshape(z,(z.shape[0],300*z.shape[1]))\n",
    "        m = F.normalize(m, axis=1)\n",
    "        m = self.fc2(F.dropout(m))\n",
    "        out = F.sigmoid(m)\n",
    "        return out"
   ]
  },
  {
   "cell_type": "raw",
   "metadata": {},
   "source": [
    "## LEAM default\n",
    "0.86\n",
    "0.74\n",
    "0.68\n",
    "0.71\n",
    "0.71\n",
    "0.87"
   ]
  },
  {
   "cell_type": "raw",
   "metadata": {},
   "source": [
    "0.88\n",
    "0.76\n",
    "0.70\n",
    "0.73\n",
    "0.74\n",
    "0.87"
   ]
  },
  {
   "cell_type": "markdown",
   "metadata": {},
   "source": [
    "# テキストから予測"
   ]
  },
  {
   "cell_type": "code",
   "execution_count": 9,
   "metadata": {},
   "outputs": [],
   "source": [
    "def auc_fun_cnn(z, t):\n",
    "    aucs = []\n",
    "    with cuda.get_device(z):\n",
    "        z = z\n",
    "    t = chainer.cuda.to_cpu(t)\n",
    "    z = chainer.cuda.to_cpu(z.data)\n",
    "    \n",
    "    for i in range(6):\n",
    "        fpr, tpr, thresholds = metrics.roc_curve(t[::,i], z[::,i]) \n",
    "        aucs.append(metrics.auc(fpr, tpr))\n",
    "        \n",
    "    return Variable(np.array(sum(aucs)/len(aucs)))\n",
    "\n",
    "def lossfun_multi_cnn(z, t):\n",
    "    with cuda.get_device(z):\n",
    "        z = z\n",
    "    loss = - (F.mean(t * F.log(z) + (1-t)*F.log1p(-z)))\n",
    "    return loss\n",
    "\n",
    "def pred(text,emoji_index,term_vec,word2id):\n",
    "    m = MeCab.Tagger(\"-Owakati -d /home/machi52/.local/lib/mecab/dic/mecab-ipadic-neologd\")\n",
    "    index_emoji = {index:emoji for emoji, index in emoji_index.items()}\n",
    "    model = cnn(len(word2id), 6)\n",
    "    serializers.load_npz('../eval_leam/most_eval', model)\n",
    "    output = {}\n",
    "    gpu_id = 0\n",
    "\n",
    "    if gpu_id >= 0:\n",
    "        model.to_gpu(gpu_id)\n",
    "    model = L.Classifier(model, lossfun=lossfun_multi_cnn, accfun=auc_fun_cnn) \n",
    "    f = lambda x: np.pad(x, pad_width=(0, 305-len(x)), mode='constant', constant_values=-1)\n",
    "    \n",
    "    line = text\n",
    "    buff = []\n",
    "    for i,term in enumerate(m.parse(line).strip().split()):\n",
    "        if word2id.get(term) != None:\n",
    "            buff.append(word2id[term])\n",
    "        elif re.match(\"|\".join(list(emoji_index.keys())),term) != None:\n",
    "            return term\n",
    "            \n",
    "    id_texts = np.array(list(map(f, [buff])), np.int32) \n",
    "    results = model.predictor(cp.array(id_texts))\n",
    "    res = {index_emoji[i]:score for i,score in enumerate(results[0].data.tolist())}\n",
    "    emojis = []\n",
    "    scores = []\n",
    "    for emoji, score in sorted(filter(lambda x:x[1]>0.001, res.items()), key=lambda x:x[1]*-1)[:20]:\n",
    "        emojis.append(emoji)\n",
    "        scores.append(score*100)   \n",
    "    for i in range(len(emojis)):    \n",
    "        output.update({emojis[i]:int(scores[i])}) \n",
    "#     print(output)    \n",
    "    return \"(\"+\" \".join([\"{0}:{1}\".format(key, value) for key,value in sorted(output.items(), key=lambda x: -x[1])]) +\")\"\n",
    "def softmax(a):\n",
    "    # 一番大きい値を取得\n",
    "    c = np.max(a)\n",
    "    # 各要素から一番大きな値を引く（オーバーフロー対策）\n",
    "    y = a/c\n",
    "    \n",
    "    return y"
   ]
  },
  {
   "cell_type": "code",
   "execution_count": 6,
   "metadata": {},
   "outputs": [],
   "source": [
    "term_vec    = pickle.loads(open('../paper_default/vectors/fastText/fast_vectors.pkl', 'rb').read())\n",
    "emoji_index = pickle.loads(open('../../all_pkl/emoji_index.pkl', 'rb').read())\n",
    "with codecs.open(\"../hiro_text.txt\",\"r\",\"utf-8\") as r:\n",
    "    line = r.read()    "
   ]
  },
  {
   "cell_type": "code",
   "execution_count": 14,
   "metadata": {},
   "outputs": [
    {
     "data": {
      "text/plain": [
       "{'😊': 0, '😡': 5, '😩': 2, '😭': 4, '😱': 1, '😵': 3}"
      ]
     },
     "execution_count": 14,
     "metadata": {},
     "output_type": "execute_result"
    }
   ],
   "source": [
    "emoji_index "
   ]
  },
  {
   "cell_type": "code",
   "execution_count": 10,
   "metadata": {},
   "outputs": [
    {
     "name": "stdout",
     "output_type": "stream",
     "text": [
      "まっちー おはよう (😊:88 😡:8 😩:4 😵:3 😱:2 😭:1)\n",
      "--------------------------------------------------\n",
      "ひろ きてる？ (😡:48 😱:17 😵:10 😊:10 😭:9 😩:5)\n",
      "--------------------------------------------------\n",
      "まっちー おっきな門がみえる！ (😭:16 😱:14 😵:13 😡:13 😊:8 😩:7)\n",
      "--------------------------------------------------\n",
      "ひろ 早く来いや〜 (😡:70 😩:9 😭:7 😵:6 😱:2 😊:1)\n",
      "--------------------------------------------------\n"
     ]
    },
    {
     "ename": "KeyboardInterrupt",
     "evalue": "",
     "output_type": "error",
     "traceback": [
      "\u001b[0;31m---------------------------------------------------------------------------\u001b[0m",
      "\u001b[0;31mKeyboardInterrupt\u001b[0m                         Traceback (most recent call last)",
      "\u001b[0;32m<ipython-input-10-e1830005256e>\u001b[0m in \u001b[0;36m<module>\u001b[0;34m()\u001b[0m\n\u001b[1;32m     11\u001b[0m         \u001b[0;32mcontinue\u001b[0m\u001b[0;34m\u001b[0m\u001b[0m\n\u001b[1;32m     12\u001b[0m     \u001b[0;32melse\u001b[0m\u001b[0;34m:\u001b[0m\u001b[0;34m\u001b[0m\u001b[0m\n\u001b[0;32m---> 13\u001b[0;31m         \u001b[0mprint\u001b[0m\u001b[0;34m(\u001b[0m\u001b[0mtext\u001b[0m\u001b[0;34m[\u001b[0m\u001b[0;36m0\u001b[0m\u001b[0;34m]\u001b[0m\u001b[0;34m,\u001b[0m\u001b[0mtext\u001b[0m\u001b[0;34m[\u001b[0m\u001b[0;36m1\u001b[0m\u001b[0;34m]\u001b[0m\u001b[0;34m,\u001b[0m\u001b[0mpred\u001b[0m\u001b[0;34m(\u001b[0m\u001b[0mtext\u001b[0m\u001b[0;34m[\u001b[0m\u001b[0;36m1\u001b[0m\u001b[0;34m]\u001b[0m\u001b[0;34m,\u001b[0m\u001b[0memoji_index\u001b[0m\u001b[0;34m,\u001b[0m\u001b[0mterm_vec\u001b[0m\u001b[0;34m,\u001b[0m\u001b[0mword2id\u001b[0m\u001b[0;34m)\u001b[0m\u001b[0;34m)\u001b[0m\u001b[0;34m\u001b[0m\u001b[0m\n\u001b[0m\u001b[1;32m     14\u001b[0m         \u001b[0mprint\u001b[0m\u001b[0;34m(\u001b[0m\u001b[0;34m\"-\"\u001b[0m\u001b[0;34m*\u001b[0m\u001b[0;36m50\u001b[0m\u001b[0;34m)\u001b[0m\u001b[0;34m\u001b[0m\u001b[0m\n",
      "\u001b[0;32m<ipython-input-9-dfc14e143b11>\u001b[0m in \u001b[0;36mpred\u001b[0;34m(text, emoji_index, term_vec, word2id)\u001b[0m\n\u001b[1;32m     21\u001b[0m     \u001b[0mm\u001b[0m \u001b[0;34m=\u001b[0m \u001b[0mMeCab\u001b[0m\u001b[0;34m.\u001b[0m\u001b[0mTagger\u001b[0m\u001b[0;34m(\u001b[0m\u001b[0;34m\"-Owakati -d /home/machi52/.local/lib/mecab/dic/mecab-ipadic-neologd\"\u001b[0m\u001b[0;34m)\u001b[0m\u001b[0;34m\u001b[0m\u001b[0m\n\u001b[1;32m     22\u001b[0m     \u001b[0mindex_emoji\u001b[0m \u001b[0;34m=\u001b[0m \u001b[0;34m{\u001b[0m\u001b[0mindex\u001b[0m\u001b[0;34m:\u001b[0m\u001b[0memoji\u001b[0m \u001b[0;32mfor\u001b[0m \u001b[0memoji\u001b[0m\u001b[0;34m,\u001b[0m \u001b[0mindex\u001b[0m \u001b[0;32min\u001b[0m \u001b[0memoji_index\u001b[0m\u001b[0;34m.\u001b[0m\u001b[0mitems\u001b[0m\u001b[0;34m(\u001b[0m\u001b[0;34m)\u001b[0m\u001b[0;34m}\u001b[0m\u001b[0;34m\u001b[0m\u001b[0m\n\u001b[0;32m---> 23\u001b[0;31m     \u001b[0mmodel\u001b[0m \u001b[0;34m=\u001b[0m \u001b[0mcnn\u001b[0m\u001b[0;34m(\u001b[0m\u001b[0mlen\u001b[0m\u001b[0;34m(\u001b[0m\u001b[0mword2id\u001b[0m\u001b[0;34m)\u001b[0m\u001b[0;34m,\u001b[0m \u001b[0;36m6\u001b[0m\u001b[0;34m)\u001b[0m\u001b[0;34m\u001b[0m\u001b[0m\n\u001b[0m\u001b[1;32m     24\u001b[0m     \u001b[0mserializers\u001b[0m\u001b[0;34m.\u001b[0m\u001b[0mload_npz\u001b[0m\u001b[0;34m(\u001b[0m\u001b[0;34m'../eval_leam/most_eval'\u001b[0m\u001b[0;34m,\u001b[0m \u001b[0mmodel\u001b[0m\u001b[0;34m)\u001b[0m\u001b[0;34m\u001b[0m\u001b[0m\n\u001b[1;32m     25\u001b[0m     \u001b[0moutput\u001b[0m \u001b[0;34m=\u001b[0m \u001b[0;34m{\u001b[0m\u001b[0;34m}\u001b[0m\u001b[0;34m\u001b[0m\u001b[0m\n",
      "\u001b[0;32m<ipython-input-2-b2a621e7864a>\u001b[0m in \u001b[0;36m__init__\u001b[0;34m(self, vocab_size, n_class, filter_size)\u001b[0m\n\u001b[1;32m      7\u001b[0m         \u001b[0;32mwith\u001b[0m \u001b[0mself\u001b[0m\u001b[0;34m.\u001b[0m\u001b[0minit_scope\u001b[0m\u001b[0;34m(\u001b[0m\u001b[0;34m)\u001b[0m\u001b[0;34m:\u001b[0m\u001b[0;34m\u001b[0m\u001b[0m\n\u001b[1;32m      8\u001b[0m             self.embed = L.EmbedID(\n\u001b[0;32m----> 9\u001b[0;31m                 vocab_size, 300, ignore_label=-1) # f_0\n\u001b[0m\u001b[1;32m     10\u001b[0m             \u001b[0mself\u001b[0m\u001b[0;34m.\u001b[0m\u001b[0mconv1\u001b[0m \u001b[0;34m=\u001b[0m \u001b[0mL\u001b[0m\u001b[0;34m.\u001b[0m\u001b[0mConvolutionND\u001b[0m\u001b[0;34m(\u001b[0m\u001b[0;36m1\u001b[0m\u001b[0;34m,\u001b[0m \u001b[0;32mNone\u001b[0m\u001b[0;34m,\u001b[0m \u001b[0;36m305\u001b[0m\u001b[0;34m,\u001b[0m \u001b[0mfilter_size\u001b[0m\u001b[0;34m[\u001b[0m\u001b[0;36m0\u001b[0m\u001b[0;34m]\u001b[0m\u001b[0;34m,\u001b[0m \u001b[0;36m1\u001b[0m\u001b[0;34m,\u001b[0m \u001b[0mfilter_size\u001b[0m\u001b[0;34m[\u001b[0m\u001b[0;36m0\u001b[0m\u001b[0;34m]\u001b[0m\u001b[0;34m//\u001b[0m\u001b[0;36m2\u001b[0m\u001b[0;34m)\u001b[0m \u001b[0;31m# f_1\u001b[0m\u001b[0;34m\u001b[0m\u001b[0m\n\u001b[1;32m     11\u001b[0m             \u001b[0mself\u001b[0m\u001b[0;34m.\u001b[0m\u001b[0mconv2\u001b[0m \u001b[0;34m=\u001b[0m \u001b[0mL\u001b[0m\u001b[0;34m.\u001b[0m\u001b[0mConvolutionND\u001b[0m\u001b[0;34m(\u001b[0m\u001b[0;36m1\u001b[0m\u001b[0;34m,\u001b[0m \u001b[0;32mNone\u001b[0m\u001b[0;34m,\u001b[0m \u001b[0;36m305\u001b[0m\u001b[0;34m,\u001b[0m \u001b[0mfilter_size\u001b[0m\u001b[0;34m[\u001b[0m\u001b[0;36m1\u001b[0m\u001b[0;34m]\u001b[0m\u001b[0;34m,\u001b[0m \u001b[0;36m1\u001b[0m\u001b[0;34m,\u001b[0m \u001b[0mfilter_size\u001b[0m\u001b[0;34m[\u001b[0m\u001b[0;36m1\u001b[0m\u001b[0;34m]\u001b[0m\u001b[0;34m//\u001b[0m\u001b[0;36m2\u001b[0m\u001b[0;34m)\u001b[0m\u001b[0;34m\u001b[0m\u001b[0m\n",
      "\u001b[0;32m~/.local/share/virtualenvs/proX-MlnGwBJR/lib/python3.5/site-packages/chainer/links/connection/embed_id.py\u001b[0m in \u001b[0;36m__init__\u001b[0;34m(self, in_size, out_size, initialW, ignore_label)\u001b[0m\n\u001b[1;32m     56\u001b[0m             \u001b[0;32mif\u001b[0m \u001b[0minitialW\u001b[0m \u001b[0;32mis\u001b[0m \u001b[0;32mNone\u001b[0m\u001b[0;34m:\u001b[0m\u001b[0;34m\u001b[0m\u001b[0m\n\u001b[1;32m     57\u001b[0m                 \u001b[0minitialW\u001b[0m \u001b[0;34m=\u001b[0m \u001b[0mnormal\u001b[0m\u001b[0;34m.\u001b[0m\u001b[0mNormal\u001b[0m\u001b[0;34m(\u001b[0m\u001b[0;36m1.0\u001b[0m\u001b[0;34m)\u001b[0m\u001b[0;34m\u001b[0m\u001b[0m\n\u001b[0;32m---> 58\u001b[0;31m             \u001b[0mself\u001b[0m\u001b[0;34m.\u001b[0m\u001b[0mW\u001b[0m \u001b[0;34m=\u001b[0m \u001b[0mvariable\u001b[0m\u001b[0;34m.\u001b[0m\u001b[0mParameter\u001b[0m\u001b[0;34m(\u001b[0m\u001b[0minitialW\u001b[0m\u001b[0;34m,\u001b[0m \u001b[0;34m(\u001b[0m\u001b[0min_size\u001b[0m\u001b[0;34m,\u001b[0m \u001b[0mout_size\u001b[0m\u001b[0;34m)\u001b[0m\u001b[0;34m)\u001b[0m\u001b[0;34m\u001b[0m\u001b[0m\n\u001b[0m\u001b[1;32m     59\u001b[0m \u001b[0;34m\u001b[0m\u001b[0m\n\u001b[1;32m     60\u001b[0m     \u001b[0;32mdef\u001b[0m \u001b[0mforward\u001b[0m\u001b[0;34m(\u001b[0m\u001b[0mself\u001b[0m\u001b[0;34m,\u001b[0m \u001b[0mx\u001b[0m\u001b[0;34m)\u001b[0m\u001b[0;34m:\u001b[0m\u001b[0;34m\u001b[0m\u001b[0m\n",
      "\u001b[0;32m~/.local/share/virtualenvs/proX-MlnGwBJR/lib/python3.5/site-packages/chainer/variable.py\u001b[0m in \u001b[0;36m__init__\u001b[0;34m(self, initializer, shape, name)\u001b[0m\n\u001b[1;32m   1244\u001b[0m             \u001b[0;32melse\u001b[0m\u001b[0;34m:\u001b[0m\u001b[0;34m\u001b[0m\u001b[0m\n\u001b[1;32m   1245\u001b[0m                 \u001b[0mxp\u001b[0m \u001b[0;34m=\u001b[0m \u001b[0mnumpy\u001b[0m\u001b[0;34m\u001b[0m\u001b[0m\n\u001b[0;32m-> 1246\u001b[0;31m             \u001b[0mdata\u001b[0m \u001b[0;34m=\u001b[0m \u001b[0minitializers\u001b[0m\u001b[0;34m.\u001b[0m\u001b[0mgenerate_array\u001b[0m\u001b[0;34m(\u001b[0m\u001b[0minitializer\u001b[0m\u001b[0;34m,\u001b[0m \u001b[0mshape\u001b[0m\u001b[0;34m,\u001b[0m \u001b[0mxp\u001b[0m\u001b[0;34m)\u001b[0m\u001b[0;34m\u001b[0m\u001b[0m\n\u001b[0m\u001b[1;32m   1247\u001b[0m             \u001b[0mgrad\u001b[0m \u001b[0;34m=\u001b[0m \u001b[0mxp\u001b[0m\u001b[0;34m.\u001b[0m\u001b[0mfull_like\u001b[0m\u001b[0;34m(\u001b[0m\u001b[0mdata\u001b[0m\u001b[0;34m,\u001b[0m \u001b[0mnumpy\u001b[0m\u001b[0;34m.\u001b[0m\u001b[0mnan\u001b[0m\u001b[0;34m)\u001b[0m\u001b[0;34m\u001b[0m\u001b[0m\n\u001b[1;32m   1248\u001b[0m             \u001b[0msuper\u001b[0m\u001b[0;34m(\u001b[0m\u001b[0mParameter\u001b[0m\u001b[0;34m,\u001b[0m \u001b[0mself\u001b[0m\u001b[0;34m)\u001b[0m\u001b[0;34m.\u001b[0m\u001b[0m__init__\u001b[0m\u001b[0;34m(\u001b[0m\u001b[0mdata\u001b[0m\u001b[0;34m,\u001b[0m \u001b[0mname\u001b[0m\u001b[0;34m=\u001b[0m\u001b[0mname\u001b[0m\u001b[0;34m,\u001b[0m \u001b[0mgrad\u001b[0m\u001b[0;34m=\u001b[0m\u001b[0mgrad\u001b[0m\u001b[0;34m)\u001b[0m\u001b[0;34m\u001b[0m\u001b[0m\n",
      "\u001b[0;32m~/.local/share/virtualenvs/proX-MlnGwBJR/lib/python3.5/site-packages/chainer/initializers/__init__.py\u001b[0m in \u001b[0;36mgenerate_array\u001b[0;34m(initializer, shape, xp, dtype)\u001b[0m\n\u001b[1;32m     48\u001b[0m     \u001b[0mdtype\u001b[0m \u001b[0;34m=\u001b[0m \u001b[0mchainer\u001b[0m\u001b[0;34m.\u001b[0m\u001b[0mget_dtype\u001b[0m\u001b[0;34m(\u001b[0m\u001b[0mdtype\u001b[0m\u001b[0;34m)\u001b[0m\u001b[0;34m\u001b[0m\u001b[0m\n\u001b[1;32m     49\u001b[0m     \u001b[0marray\u001b[0m \u001b[0;34m=\u001b[0m \u001b[0mxp\u001b[0m\u001b[0;34m.\u001b[0m\u001b[0mempty\u001b[0m\u001b[0;34m(\u001b[0m\u001b[0mshape\u001b[0m\u001b[0;34m,\u001b[0m \u001b[0mdtype\u001b[0m\u001b[0;34m=\u001b[0m\u001b[0mdtype\u001b[0m\u001b[0;34m)\u001b[0m\u001b[0;34m\u001b[0m\u001b[0m\n\u001b[0;32m---> 50\u001b[0;31m     \u001b[0minitializer\u001b[0m\u001b[0;34m(\u001b[0m\u001b[0marray\u001b[0m\u001b[0;34m)\u001b[0m\u001b[0;34m\u001b[0m\u001b[0m\n\u001b[0m\u001b[1;32m     51\u001b[0m     \u001b[0;32mreturn\u001b[0m \u001b[0marray\u001b[0m\u001b[0;34m\u001b[0m\u001b[0m\n\u001b[1;32m     52\u001b[0m \u001b[0;34m\u001b[0m\u001b[0m\n",
      "\u001b[0;32m~/.local/share/virtualenvs/proX-MlnGwBJR/lib/python3.5/site-packages/chainer/initializers/normal.py\u001b[0m in \u001b[0;36m__call__\u001b[0;34m(self, array)\u001b[0m\n\u001b[1;32m     34\u001b[0m                 \u001b[0;31m# float16 is not supported in cuRAND\u001b[0m\u001b[0;34m\u001b[0m\u001b[0;34m\u001b[0m\u001b[0m\n\u001b[1;32m     35\u001b[0m                 \u001b[0margs\u001b[0m\u001b[0;34m[\u001b[0m\u001b[0;34m'dtype'\u001b[0m\u001b[0;34m]\u001b[0m \u001b[0;34m=\u001b[0m \u001b[0mnumpy\u001b[0m\u001b[0;34m.\u001b[0m\u001b[0mfloat32\u001b[0m\u001b[0;34m\u001b[0m\u001b[0m\n\u001b[0;32m---> 36\u001b[0;31m         \u001b[0marray\u001b[0m\u001b[0;34m[\u001b[0m\u001b[0;34m...\u001b[0m\u001b[0;34m]\u001b[0m \u001b[0;34m=\u001b[0m \u001b[0mxp\u001b[0m\u001b[0;34m.\u001b[0m\u001b[0mrandom\u001b[0m\u001b[0;34m.\u001b[0m\u001b[0mnormal\u001b[0m\u001b[0;34m(\u001b[0m\u001b[0;34m**\u001b[0m\u001b[0margs\u001b[0m\u001b[0;34m)\u001b[0m\u001b[0;34m\u001b[0m\u001b[0m\n\u001b[0m\u001b[1;32m     37\u001b[0m \u001b[0;34m\u001b[0m\u001b[0m\n\u001b[1;32m     38\u001b[0m \u001b[0;34m\u001b[0m\u001b[0m\n",
      "\u001b[0;31mKeyboardInterrupt\u001b[0m: "
     ]
    }
   ],
   "source": [
    "word2id = pickle.loads(open('../eval_leam/word2id_600k', 'rb').read())\n",
    "\n",
    "lineText = re.split(\"20.*\"+\"\\(.+\\)\",line)[-2]\n",
    "lineText = re.sub(\"\\n\",\"\",lineText)\n",
    "lineText = re.sub(\"\\t\",\" \",lineText)\n",
    "lineText = re.split(\"[0-9]{2}:[0-9]{2}\",lineText)\n",
    "\n",
    "for text in lineText[1:]:\n",
    "    text = text.split()\n",
    "    if len(text[1]) <=3:\n",
    "        continue\n",
    "    else:\n",
    "        print(text[0],text[1],pred(text[1],emoji_index,term_vec,word2id))\n",
    "        print(\"-\"*50)"
   ]
  },
  {
   "cell_type": "code",
   "execution_count": 40,
   "metadata": {},
   "outputs": [
    {
     "ename": "KeyError",
     "evalue": "'😭'",
     "output_type": "error",
     "traceback": [
      "\u001b[0;31m---------------------------------------------------------------------------\u001b[0m",
      "\u001b[0;31mKeyError\u001b[0m                                  Traceback (most recent call last)",
      "\u001b[0;32m<ipython-input-40-703c35bc3ea7>\u001b[0m in \u001b[0;36m<module>\u001b[0;34m()\u001b[0m\n\u001b[0;32m----> 1\u001b[0;31m \u001b[0;32mif\u001b[0m \u001b[0mword2id\u001b[0m\u001b[0;34m[\u001b[0m\u001b[0;34m'😭'\u001b[0m\u001b[0;34m]\u001b[0m \u001b[0;34m!=\u001b[0m \u001b[0;32mNone\u001b[0m\u001b[0;34m:\u001b[0m\u001b[0;34m\u001b[0m\u001b[0m\n\u001b[0m\u001b[1;32m      2\u001b[0m     \u001b[0mprint\u001b[0m\u001b[0;34m(\u001b[0m\u001b[0;34m\"ok\"\u001b[0m\u001b[0;34m)\u001b[0m\u001b[0;34m\u001b[0m\u001b[0m\n",
      "\u001b[0;31mKeyError\u001b[0m: '😭'"
     ]
    }
   ],
   "source": [
    "if word2id['😭'] != None:\n",
    "    print(\"ok\")"
   ]
  },
  {
   "cell_type": "code",
   "execution_count": 39,
   "metadata": {},
   "outputs": [
    {
     "name": "stdout",
     "output_type": "stream",
     "text": [
      "no\n"
     ]
    }
   ],
   "source": [
    "if  word2id.get('😭') is not None:\n",
    "    print(\"ok\")\n",
    "else:\n",
    "    \n",
    "    print(\"no\")"
   ]
  },
  {
   "cell_type": "code",
   "execution_count": 53,
   "metadata": {},
   "outputs": [
    {
     "name": "stdout",
     "output_type": "stream",
     "text": [
      "no\n",
      "ok\n",
      "no\n"
     ]
    }
   ],
   "source": [
    "for term in [\"今日は\",\"😭\",\"何だろう\"]:\n",
    "    if re.match(\"|\".join(list(emoji_index.keys())),term) != None:\n",
    "        print(\"ok\")\n",
    "    else:\n",
    "        print(\"no\")"
   ]
  },
  {
   "cell_type": "code",
   "execution_count": 130,
   "metadata": {},
   "outputs": [],
   "source": [
    "a = {'😩': 19, '😊': 2, '😡': 14, '😵': 32, '😭': 8, '😱': 20}"
   ]
  },
  {
   "cell_type": "code",
   "execution_count": 74,
   "metadata": {},
   "outputs": [
    {
     "ename": "TypeError",
     "evalue": "sequence item 1: expected str instance, int found",
     "output_type": "error",
     "traceback": [
      "\u001b[0;31m---------------------------------------------------------------------------\u001b[0m",
      "\u001b[0;31mTypeError\u001b[0m                                 Traceback (most recent call last)",
      "\u001b[0;32m<ipython-input-74-93fa4c8471f9>\u001b[0m in \u001b[0;36m<module>\u001b[0;34m()\u001b[0m\n\u001b[0;32m----> 1\u001b[0;31m \u001b[0mtype\u001b[0m\u001b[0;34m(\u001b[0m\u001b[0;34m\" \"\u001b[0m\u001b[0;34m.\u001b[0m\u001b[0mjoin\u001b[0m\u001b[0;34m(\u001b[0m\u001b[0;34m[\u001b[0m\u001b[0;34m(\u001b[0m\u001b[0;34m'😵'\u001b[0m\u001b[0;34m,\u001b[0m \u001b[0;36m29\u001b[0m\u001b[0;34m)\u001b[0m\u001b[0;34m,\u001b[0m \u001b[0;34m(\u001b[0m\u001b[0;34m'😱'\u001b[0m\u001b[0;34m,\u001b[0m \u001b[0;36m19\u001b[0m\u001b[0;34m)\u001b[0m\u001b[0;34m,\u001b[0m \u001b[0;34m(\u001b[0m\u001b[0;34m'😩'\u001b[0m\u001b[0;34m,\u001b[0m \u001b[0;36m18\u001b[0m\u001b[0;34m)\u001b[0m\u001b[0;34m,\u001b[0m \u001b[0;34m(\u001b[0m\u001b[0;34m'😡'\u001b[0m\u001b[0;34m,\u001b[0m \u001b[0;36m14\u001b[0m\u001b[0;34m)\u001b[0m\u001b[0;34m,\u001b[0m \u001b[0;34m(\u001b[0m\u001b[0;34m'😭'\u001b[0m\u001b[0;34m,\u001b[0m \u001b[0;36m8\u001b[0m\u001b[0;34m)\u001b[0m\u001b[0;34m,\u001b[0m \u001b[0;34m(\u001b[0m\u001b[0;34m'😊'\u001b[0m\u001b[0;34m,\u001b[0m \u001b[0;36m2\u001b[0m\u001b[0;34m)\u001b[0m\u001b[0;34m]\u001b[0m\u001b[0;34m[\u001b[0m\u001b[0;36m0\u001b[0m\u001b[0;34m]\u001b[0m\u001b[0;34m)\u001b[0m\u001b[0;34m)\u001b[0m\u001b[0;34m\u001b[0m\u001b[0m\n\u001b[0m",
      "\u001b[0;31mTypeError\u001b[0m: sequence item 1: expected str instance, int found"
     ]
    }
   ],
   "source": [
    "[('😵',str(29)), ('😱', 19), ('😩', 18), ('😡', 14), ('😭', 8), ('😊', 2)]"
   ]
  },
  {
   "cell_type": "code",
   "execution_count": 77,
   "metadata": {},
   "outputs": [
    {
     "data": {
      "text/plain": [
       "'😵:29'"
      ]
     },
     "execution_count": 77,
     "metadata": {},
     "output_type": "execute_result"
    }
   ],
   "source": [
    "\":\".join(('😵',str(29)))"
   ]
  },
  {
   "cell_type": "code",
   "execution_count": 102,
   "metadata": {},
   "outputs": [
    {
     "data": {
      "text/plain": [
       "['😩:19', '😊:2', '😡:14', '😵:32', '😭:8', '😱:20']"
      ]
     },
     "execution_count": 102,
     "metadata": {},
     "output_type": "execute_result"
    }
   ],
   "source": [
    "[\"{0}:{1}\".format(key, value) for key,value in a.items()]"
   ]
  },
  {
   "cell_type": "code",
   "execution_count": 101,
   "metadata": {},
   "outputs": [
    {
     "data": {
      "text/plain": [
       "[('😵', 32), ('😱', 20), ('😩', 19), ('😡', 14), ('😭', 8), ('😊', 2)]"
      ]
     },
     "execution_count": 101,
     "metadata": {},
     "output_type": "execute_result"
    }
   ],
   "source": [
    "sorted(a.items(), key=lambda x: -x[1])"
   ]
  },
  {
   "cell_type": "code",
   "execution_count": 108,
   "metadata": {},
   "outputs": [
    {
     "data": {
      "text/plain": [
       "[('😵', 32), ('😱', 20), ('😩', 19), ('😡', 14), ('😭', 8), ('😊', 2)]"
      ]
     },
     "execution_count": 108,
     "metadata": {},
     "output_type": "execute_result"
    }
   ],
   "source": []
  },
  {
   "cell_type": "code",
   "execution_count": 131,
   "metadata": {},
   "outputs": [
    {
     "data": {
      "text/plain": [
       "['😵:32', '😱:20', '😩:19', '😡:14', '😭:8', '😊:2']"
      ]
     },
     "execution_count": 131,
     "metadata": {},
     "output_type": "execute_result"
    }
   ],
   "source": [
    "[\"{0}:{1}\".format(key, value) for key,value in sorted(a.items(), key=lambda x: -x[1])]"
   ]
  },
  {
   "cell_type": "code",
   "execution_count": 127,
   "metadata": {},
   "outputs": [
    {
     "name": "stdout",
     "output_type": "stream",
     "text": [
      "😵 32\n",
      "😱 20\n",
      "😩 19\n",
      "😡 14\n",
      "😭 8\n",
      "😊 2\n"
     ]
    }
   ],
   "source": [
    "for a,b in [('😵', 32), ('😱', 20), ('😩', 19), ('😡', 14), ('😭', 8), ('😊', 2)]:\n",
    "    print(a,b)"
   ]
  },
  {
   "cell_type": "code",
   "execution_count": 124,
   "metadata": {},
   "outputs": [
    {
     "data": {
      "text/plain": [
       "32"
      ]
     },
     "execution_count": 124,
     "metadata": {},
     "output_type": "execute_result"
    }
   ],
   "source": [
    "b"
   ]
  },
  {
   "cell_type": "code",
   "execution_count": 11,
   "metadata": {},
   "outputs": [
    {
     "name": "stdin",
     "output_type": "stream",
     "text": [
      "テキストを入力してください：\n",
      " カラオケいきたいよく誰か近々いかん？😩😩\n"
     ]
    },
    {
     "data": {
      "text/plain": [
       "'(😩:45 😭:18 😵:14 😡:12 😱:8 😊:5)'"
      ]
     },
     "execution_count": 11,
     "metadata": {},
     "output_type": "execute_result"
    }
   ],
   "source": [
    "text = input('テキストを入力してください：\\n')\n",
    "text = re.sub('😊|😵|😡|😭|😱|😩', '', text)\n",
    "pred(text,emoji_index,term_vec,word2id)"
   ]
  },
  {
   "cell_type": "code",
   "execution_count": 16,
   "metadata": {},
   "outputs": [
    {
     "name": "stdout",
     "output_type": "stream",
     "text": [
      "田中アナの文章いいな😊圭さんに対する尊敬と愛情が静かに熱く伝わってくる。今夜は見る！うん。「田中圭24時間テレビ」現場で見えた田中圭の「勉強力」　田中大貴アナ連載｜CoCoKARAnext（ココカラnext）\n",
      "\n",
      "(😊:46 😵:14 😭:10 😱:8 😩:8 😡:5)\n",
      "一通り読んだぜ🤔状況把握しました🥺既読つかなかったり連絡ないと不安になるよ😵遠距離だから余計にね…こっちばっかりなんか不安なのかな、とか思ったりしてね😭電話の件だって…電話するならするで自分に集中してほしいって思っちゃうよ🥺せっかくの電話なのにさ😭\n",
      "\n",
      "(😩:38 😭:22 😡:17 😵:15 😱:8 😊:1)\n",
      "しろやオラァ！！！！！😡💢💢💢💢💢🔥\n",
      "\n",
      "(😡:94 😭:2 😩:1 😊:0 😵:0 😱:0)\n",
      "あーーーー共感😭😭💛💛\n",
      "\n",
      "(😭:72 😩:27 😱:8 😵:6 😊:2 😡:1)\n",
      "びっくりー⁉️😂今娘を🚗でおくっていたら…片側2車線の道を進行方向から逆走してくる軽自動車が〜😱😱こわ〜い💧お年寄りかなー😰⁉️今日は周りをしっかり見て気をつける日✨な気がします😂みなさんも気をつけてください💕\n",
      "\n",
      "(😱:55 😵:47 😊:13 😩:9 😭:6 😡:0)\n",
      "カラオケいきたいよく誰か近々いかん？😩😩\n",
      "\n",
      "(😩:45 😭:16 😵:14 😡:12 😱:8 😊:4)\n",
      "女の子だと、難しそうですね😊お母さんが、全てを知っている。なーんちゃって😅\n",
      "\n",
      "(😱:44 😵:40 😩:11 😊:10 😭:7 😡:0)\n",
      "🤣🤣🤣🤣🤣悪魔‼️😡デビル😈👿\n",
      "\n",
      "(😱:71 😡:18 😵:10 😊:4 😩:4 😭:3)\n",
      "このまま、、、ぼっちゃりで行くわ🙆😂一生、トンを目の前で見ること出来ないわ😱\n",
      "(😩:33 😱:22 😭:18 😵:16 😊:5 😡:5)\n"
     ]
    }
   ],
   "source": [
    "with codecs.open(\"./kensyouyou.txt\",\"r\",\"utf-8\") as r:\n",
    "    line = r.readlines()\n",
    "    for text in line:\n",
    "        print(text)\n",
    "        \n",
    "        text = re.sub('😊|😵|😡|😭|😱|😩', '', text)\n",
    "        \n",
    "        print(pred(text,emoji_index,term_vec,word2id))"
   ]
  },
  {
   "cell_type": "code",
   "execution_count": 17,
   "metadata": {},
   "outputs": [
    {
     "name": "stdout",
     "output_type": "stream",
     "text": [
      "ok\n",
      "ありがとうございます❗😁ほんと気持ち良いんでしょうね〜…🎵(*´ω｀*)この子達のこの姿を見ていると、軽く眠たくなります(笑)😊\n",
      "中部国際空港に来てみた。飛行機を見るのは好きなんだが、あれに自分が乗ると思うともう…ヽ(;ﾟ;Д;ﾟ;; )ｷﾞｬｧｧｧ今から会社の海外旅行のことを思うと恐怖で吐き気が…😵💦\n",
      "流れんもん😡😡いちばんすきやもん😡😡\n",
      "舞浜駅着いた?今イクスピアリの中いるから急ぎでなければ待ってて欲しい😭\n",
      "かんわい😩\n"
     ]
    }
   ],
   "source": [
    "import tweepy\n",
    "import re\n",
    "import time\n",
    "\n",
    "C_KEY = \"5VJqwPmqU43NZRGzEp3BMSPoz\"\n",
    "C_SECRET = \"5uTonNvxYcK4LR3ho15x7da9BP83JyWppcsuUarkzJnrtfZMwh\"\n",
    "A_KEY = \"2785997472-ghhk3LuE9L6nu7gOgYusQzz3ADXLnX4tw4CmjDb\"\n",
    "A_SECRET = \"8tMOZtuVd0oLFJ9hhxiu5bEir1JCaJKZP33NhPJoZ6fZG\"\n",
    "\n",
    "auth = tweepy.OAuthHandler(C_KEY, C_SECRET)\n",
    "auth.set_access_token(A_KEY, A_SECRET)\n",
    "api = tweepy.API(auth, wait_on_rate_limit=True)\n",
    "\n",
    "emotion=[\"😊\",\"😵\",\"😡\",\"😭\",\"😱\",\"😩\"]\n",
    "max_id=\"\"\n",
    "print(\"ok\")\n",
    "for i,keyword in enumerate(emotion):\n",
    "    api = tweepy.API(auth, wait_on_rate_limit=True)\n",
    "    for status in api.search(q=keyword, lang='ja', result_type='recent',count=1,since_id=max_id):\n",
    "        text = re.sub(\"\\n\",\"\",status.text)\n",
    "#         text = re.sub('😊|😵|😡|😭|😱|😩', '', text)\n",
    "        text = re.sub(\"RT\",\"\",text)\n",
    "        text = re.sub(\"@.*?\\s\",\"\",text)\n",
    "        text = re.sub(\"\\shttp.*\",\"\",text)\n",
    "        time.sleep(0.5)\n",
    "        print(text) "
   ]
  },
  {
   "cell_type": "code",
   "execution_count": null,
   "metadata": {},
   "outputs": [],
   "source": []
  }
 ],
 "metadata": {
  "kernelspec": {
   "display_name": "proX",
   "language": "python",
   "name": "prox"
  },
  "language_info": {
   "codemirror_mode": {
    "name": "ipython",
    "version": 3
   },
   "file_extension": ".py",
   "mimetype": "text/x-python",
   "name": "python",
   "nbconvert_exporter": "python",
   "pygments_lexer": "ipython3",
   "version": "3.5.2"
  }
 },
 "nbformat": 4,
 "nbformat_minor": 2
}
